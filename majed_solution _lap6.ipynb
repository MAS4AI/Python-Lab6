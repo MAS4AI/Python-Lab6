{
 "cells": [
  {
   "cell_type": "markdown",
   "id": "8b6211d5",
   "metadata": {},
   "source": [
    "# Python-Lab6\n",
    "\n",
    "## Dictionary\n",
    "\n",
    "Build a phone book program that receives the phone number, and returns the name of the owner. \n",
    "- You can follow the table below:\n",
    "\n",
    "| Name    | Number      |\n",
    "| -------- | ---------- |\n",
    "| Amal     | 1111111111 |\n",
    "| Mohammed | 2222222222 |\n",
    "| Khadijah | 3333333333 |\n",
    "| Abdullah  | 4444444444 |\n",
    "| Rawan    | 5555555555 |\n",
    "| Faisal   | 6666666666 |\n",
    "| Layla    | 7777777777 |\n",
    "\n",
    "\n",
    "- If the number exists, print the owner. Otherwise, print \"Sorry, the number is not found\".\n",
    "- If the number is less or more than 10 numbers, print \"This is invalid number\".\n",
    "- If the number contains letters or symbols, print \"This is invalid number\".\n"
   ]
  },
  {
   "cell_type": "code",
   "execution_count": null,
   "id": "4e72c2d7",
   "metadata": {},
   "outputs": [
    {
     "name": "stdout",
     "output_type": "stream",
     "text": [
      "write the number3274623746732462784\n",
      "This is invalid number\n",
      "write the number42347623742364284\n",
      "This is invalid number\n",
      "write the number24327426374623674723\n",
      "This is invalid number\n",
      "write the number4327846273467832462478\n",
      "This is invalid number\n"
     ]
    }
   ],
   "source": [
    "phoneBook ={'1111111111':'amal',\n",
    "            '2222222222':'mohammed',\n",
    "            '3333333333':'khadijah',\n",
    "            '4444444444':'abdullah',\n",
    "            '5555555555':'rawan',\n",
    "            '6666666666':'faisal',\n",
    "            '7777777777':'layla'} #here we are identifining the dic \n",
    "\n",
    "while True: #this here loops for the user to input the phone number\n",
    "    invalid = False # so we can know if the user inputs a symbol or letters \n",
    "    try: # this is used for raising error if the user trys to input a letters or syp \n",
    "        input_number=input('write the number')\n",
    "        phoneNumber_len = len(input_number)\n",
    "        cheak_number = int(input_number) # here if the user give letters or symbls it will raise an error\n",
    "        \n",
    "        \n",
    "    except:\n",
    "        invalid = True #when the error ocur it will change the invalid variable to True for the condutions below\n",
    "        \n",
    "        \n",
    "    if input_number in phoneBook.keys():# it will check if the number in the dic \n",
    "        print(phoneBook['{}'.format(input_number)]) \n",
    "        break\n",
    "    elif phoneNumber_len==10 and invalid ==False : # if there is a number given and it's not in the dic and make sure it's a valid number it will let the user that the number is not there\n",
    "        print('Sorry, the number is not found')\n",
    "        break\n",
    "    elif phoneNumber_len<10 and invalid ==False: # it will check if the number is less then 10 \n",
    "        print('This is invalid number: the number should be 10 yours is {}'.format(phoneNumber_len))\n",
    "\n",
    "    else: # other then that , like if the number exceds the 10 it will print\n",
    "        print('This is invalid number')"
   ]
  },
  {
   "cell_type": "code",
   "execution_count": null,
   "id": "df8b8b21",
   "metadata": {},
   "outputs": [],
   "source": []
  }
 ],
 "metadata": {
  "kernelspec": {
   "display_name": "Python 3 (ipykernel)",
   "language": "python",
   "name": "python3"
  },
  "language_info": {
   "codemirror_mode": {
    "name": "ipython",
    "version": 3
   },
   "file_extension": ".py",
   "mimetype": "text/x-python",
   "name": "python",
   "nbconvert_exporter": "python",
   "pygments_lexer": "ipython3",
   "version": "3.9.15"
  }
 },
 "nbformat": 4,
 "nbformat_minor": 5
}
